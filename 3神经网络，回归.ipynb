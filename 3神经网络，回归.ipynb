{
 "cells": [
  {
   "cell_type": "code",
   "execution_count": 14,
   "metadata": {},
   "outputs": [],
   "source": [
    "import torch\n",
    "from torch.autograd import Variable\n",
    "import torch.nn.functional as F\n",
    "import matplotlib.pyplot as plt"
   ]
  },
  {
   "cell_type": "code",
   "execution_count": 10,
   "metadata": {},
   "outputs": [],
   "source": [
    "x = torch.unsqueeze(torch.linspace(-1 , 1, 100), dim=1)\n",
    "y = x.pow(2)+0.2*torch.rand(x.size())\n",
    "x, y = Variable(x), Variable(y)"
   ]
  },
  {
   "cell_type": "code",
   "execution_count": 11,
   "metadata": {
    "scrolled": true
   },
   "outputs": [
    {
     "data": {
      "image/png": "[encoded data removed]",
      "text/plain": [
       "<Figure size 432x288 with 1 Axes>"
      ]
     },
     "metadata": {
      "needs_background": "light"
     },
     "output_type": "display_data"
    }
   ],
   "source": [
    "plt.scatter(x.data.numpy(), y.data.numpy())\n",
    "plt.show()"
   ]
  },
  {
   "cell_type": "code",
   "execution_count": 16,
   "metadata": {},
   "outputs": [],
   "source": [
    "class Net(torch.nn.Module):\n",
    "    def __init__(self, n_feature, n_hidden, n_output):\n",
    "        super().__init__()\n",
    "        self.hidden = torch.nn.Linear(n_feature, n_hidden)\n",
    "        self.predict = torch.nn.Linear(n_hidden, n_output)\n",
    "    \n",
    "    def forward(self, x):\n",
    "        x = F.relu(self.hidden(x))\n",
    "        x = self.predict(x)\n",
    "        return x"
   ]
  },
  {
   "cell_type": "code",
   "execution_count": 17,
   "metadata": {},
   "outputs": [
    {
     "name": "stdout",
     "output_type": "stream",
     "text": [
      "Net(\n",
      "  (hidden): Linear(in_features=1, out_features=10, bias=True)\n",
      "  (predict): Linear(in_features=10, out_features=1, bias=True)\n",
      ")\n"
     ]
    }
   ],
   "source": [
    "net = Net(1, 10, 1)\n",
    "print(net)"
   ]
  },
  {
   "cell_type": "code",
   "execution_count": 20,
   "metadata": {},
   "outputs": [],
   "source": [
    "optimizer = torch.optim.SGD(net.parameters(), lr=0.1)\n",
    "loss_func = torch.nn.MSELoss()"
   ]
  },
  {
   "cell_type": "code",
   "execution_count": 23,
   "metadata": {},
   "outputs": [
    {
     "name": "stdout",
     "output_type": "stream",
     "text": [
      "tensor(0.1137, grad_fn=<MseLossBackward>)\n",
      "tensor(0.1328, grad_fn=<MseLossBackward>)\n",
      "tensor(0.1041, grad_fn=<MseLossBackward>)\n",
      "tensor(0.0965, grad_fn=<MseLossBackward>)\n",
      "tensor(0.1283, grad_fn=<MseLossBackward>)\n",
      "tensor(0.1231, grad_fn=<MseLossBackward>)\n",
      "tensor(0.0934, grad_fn=<MseLossBackward>)\n",
      "tensor(0.1105, grad_fn=<MseLossBackward>)\n",
      "tensor(0.1333, grad_fn=<MseLossBackward>)\n",
      "tensor(0.1071, grad_fn=<MseLossBackward>)\n",
      "tensor(0.0948, grad_fn=<MseLossBackward>)\n",
      "tensor(0.1260, grad_fn=<MseLossBackward>)\n",
      "tensor(0.1257, grad_fn=<MseLossBackward>)\n",
      "tensor(0.0946, grad_fn=<MseLossBackward>)\n",
      "tensor(0.1074, grad_fn=<MseLossBackward>)\n",
      "tensor(0.1334, grad_fn=<MseLossBackward>)\n",
      "tensor(0.1102, grad_fn=<MseLossBackward>)\n",
      "tensor(0.0935, grad_fn=<MseLossBackward>)\n",
      "tensor(0.1234, grad_fn=<MseLossBackward>)\n",
      "tensor(0.1281, grad_fn=<MseLossBackward>)\n"
     ]
    }
   ],
   "source": [
    "for t in range(100):\n",
    "    prediction = net(x)\n",
    "    \n",
    "    loss = loss_func(prediction, y)\n",
    "    loss.backward()\n",
    "    optimizer.step()\n",
    "    \n",
    "    if t%5 == 0:\n",
    "        print(loss)"
   ]
  },
  {
   "cell_type": "code",
   "execution_count": null,
   "metadata": {},
   "outputs": [],
   "source": []
  }
 ],
 "metadata": {
  "kernelspec": {
   "display_name": "Python 3.7.7 64-bit",
   "language": "python",
   "name": "python37764bita7c2719225b84763be647c75e40e67b2"
  },
  "language_info": {
   "codemirror_mode": {
    "name": "ipython",
    "version": 3
   },
   "file_extension": ".py",
   "mimetype": "text/x-python",
   "name": "python",
   "nbconvert_exporter": "python",
   "pygments_lexer": "ipython3",
   "version": "3.7.7"
  }
 },
 "nbformat": 4,
 "nbformat_minor": 4
}
